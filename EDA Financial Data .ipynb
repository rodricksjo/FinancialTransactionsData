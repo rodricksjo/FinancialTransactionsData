{
 "cells": [
  {
   "cell_type": "code",
   "execution_count": 1,
   "id": "bb997b41",
   "metadata": {},
   "outputs": [],
   "source": [
    "#Importing Libraries\n",
    "import pandas as pd\n",
    "from collections import defaultdict\n",
    "import datetime as dt\n",
    "from datetime import datetime  \n",
    "import numpy as np"
   ]
  },
  {
   "cell_type": "code",
   "execution_count": 2,
   "id": "9738b5ae",
   "metadata": {},
   "outputs": [
    {
     "name": "stdout",
     "output_type": "stream",
     "text": [
      "     TransactionID AccountID  TransactionAmount      TransactionDate  \\\n",
      "0         TX000001   AC00128              14.09  2023-04-11 16:29:14   \n",
      "1         TX000002   AC00455             376.24  2023-06-27 16:44:19   \n",
      "2         TX000003   AC00019             126.29  2023-07-10 18:16:08   \n",
      "3         TX000004   AC00070             184.50  2023-05-05 16:32:11   \n",
      "4         TX000005   AC00411              13.45  2023-10-16 17:51:24   \n",
      "...            ...       ...                ...                  ...   \n",
      "2507      TX002508   AC00297             856.21  2023-04-26 17:09:36   \n",
      "2508      TX002509   AC00322             251.54  2023-03-22 17:36:48   \n",
      "2509      TX002510   AC00095              28.63  2023-08-21 17:08:50   \n",
      "2510      TX002511   AC00118             185.97  2023-02-24 16:24:46   \n",
      "2511      TX002512   AC00009             243.08  2023-02-14 16:21:23   \n",
      "\n",
      "     TransactionType          Location DeviceID      IP Address MerchantID  \\\n",
      "0              Debit         San Diego  D000380  162.198.218.92       M015   \n",
      "1              Debit           Houston  D000051     13.149.61.4       M052   \n",
      "2              Debit              Mesa  D000235  215.97.143.157       M009   \n",
      "3              Debit           Raleigh  D000187  200.13.225.150       M002   \n",
      "4             Credit           Atlanta  D000308    65.164.3.100       M091   \n",
      "...              ...               ...      ...             ...        ...   \n",
      "2507          Credit  Colorado Springs  D000625    21.157.41.17       M072   \n",
      "2508           Debit            Tucson  D000410  49.174.157.140       M029   \n",
      "2509           Debit         San Diego  D000095     58.1.27.124       M087   \n",
      "2510           Debit            Denver  D000634   21.190.11.223       M041   \n",
      "2511          Credit      Jacksonville  D000215   59.127.135.25       M041   \n",
      "\n",
      "     Channel  CustomerAge CustomerOccupation  TransactionDuration  \\\n",
      "0        ATM           70             Doctor                   81   \n",
      "1        ATM           68             Doctor                  141   \n",
      "2     Online           19            Student                   56   \n",
      "3     Online           26            Student                   25   \n",
      "4     Online           26            Student                  198   \n",
      "...      ...          ...                ...                  ...   \n",
      "2507  Branch           33             Doctor                  109   \n",
      "2508  Branch           48             Doctor                  177   \n",
      "2509  Branch           56            Retired                  146   \n",
      "2510  Online           23            Student                   19   \n",
      "2511  Online           24            Student                   93   \n",
      "\n",
      "      LoginAttempts  AccountBalance PreviousTransactionDate  \n",
      "0                 1         5112.21     2024-11-04 08:08:08  \n",
      "1                 1        13758.91     2024-11-04 08:09:35  \n",
      "2                 1         1122.35     2024-11-04 08:07:04  \n",
      "3                 1         8569.06     2024-11-04 08:09:06  \n",
      "4                 1         7429.40     2024-11-04 08:06:39  \n",
      "...             ...             ...                     ...  \n",
      "2507              1        12690.79     2024-11-04 08:11:29  \n",
      "2508              1          254.75     2024-11-04 08:11:42  \n",
      "2509              1         3382.91     2024-11-04 08:08:39  \n",
      "2510              1         1776.91     2024-11-04 08:12:22  \n",
      "2511              1          131.25     2024-11-04 08:07:49  \n",
      "\n",
      "[2512 rows x 16 columns]\n"
     ]
    }
   ],
   "source": [
    "df=pd.read_csv(r'C:/Users/JOVAN RODRIGUES/Downloads/FinTranscData/bank_transactions_dat.csv')\n",
    "print(df)"
   ]
  },
  {
   "cell_type": "code",
   "execution_count": 3,
   "id": "a548ec18",
   "metadata": {},
   "outputs": [
    {
     "name": "stdout",
     "output_type": "stream",
     "text": [
      "  TransactionID AccountID  TransactionAmount      TransactionDate  \\\n",
      "0      TX000001   AC00128              14.09  2023-04-11 16:29:14   \n",
      "1      TX000002   AC00455             376.24  2023-06-27 16:44:19   \n",
      "2      TX000003   AC00019             126.29  2023-07-10 18:16:08   \n",
      "3      TX000004   AC00070             184.50  2023-05-05 16:32:11   \n",
      "4      TX000005   AC00411              13.45  2023-10-16 17:51:24   \n",
      "\n",
      "  TransactionType   Location DeviceID      IP Address MerchantID Channel  \\\n",
      "0           Debit  San Diego  D000380  162.198.218.92       M015     ATM   \n",
      "1           Debit    Houston  D000051     13.149.61.4       M052     ATM   \n",
      "2           Debit       Mesa  D000235  215.97.143.157       M009  Online   \n",
      "3           Debit    Raleigh  D000187  200.13.225.150       M002  Online   \n",
      "4          Credit    Atlanta  D000308    65.164.3.100       M091  Online   \n",
      "\n",
      "   CustomerAge CustomerOccupation  TransactionDuration  LoginAttempts  \\\n",
      "0           70             Doctor                   81              1   \n",
      "1           68             Doctor                  141              1   \n",
      "2           19            Student                   56              1   \n",
      "3           26            Student                   25              1   \n",
      "4           26            Student                  198              1   \n",
      "\n",
      "   AccountBalance PreviousTransactionDate  \n",
      "0         5112.21     2024-11-04 08:08:08  \n",
      "1        13758.91     2024-11-04 08:09:35  \n",
      "2         1122.35     2024-11-04 08:07:04  \n",
      "3         8569.06     2024-11-04 08:09:06  \n",
      "4         7429.40     2024-11-04 08:06:39  \n"
     ]
    }
   ],
   "source": [
    "# Display the first 5 rows to verify\n",
    "print(df.head())"
   ]
  },
  {
   "cell_type": "code",
   "execution_count": 4,
   "id": "426e41d4",
   "metadata": {},
   "outputs": [
    {
     "name": "stdout",
     "output_type": "stream",
     "text": [
      "<class 'pandas.core.frame.DataFrame'>\n",
      "RangeIndex: 2512 entries, 0 to 2511\n",
      "Data columns (total 16 columns):\n",
      " #   Column                   Non-Null Count  Dtype  \n",
      "---  ------                   --------------  -----  \n",
      " 0   TransactionID            2512 non-null   object \n",
      " 1   AccountID                2512 non-null   object \n",
      " 2   TransactionAmount        2512 non-null   float64\n",
      " 3   TransactionDate          2512 non-null   object \n",
      " 4   TransactionType          2512 non-null   object \n",
      " 5   Location                 2512 non-null   object \n",
      " 6   DeviceID                 2512 non-null   object \n",
      " 7   IP Address               2512 non-null   object \n",
      " 8   MerchantID               2512 non-null   object \n",
      " 9   Channel                  2512 non-null   object \n",
      " 10  CustomerAge              2512 non-null   int64  \n",
      " 11  CustomerOccupation       2512 non-null   object \n",
      " 12  TransactionDuration      2512 non-null   int64  \n",
      " 13  LoginAttempts            2512 non-null   int64  \n",
      " 14  AccountBalance           2512 non-null   float64\n",
      " 15  PreviousTransactionDate  2512 non-null   object \n",
      "dtypes: float64(2), int64(3), object(11)\n",
      "memory usage: 314.1+ KB\n",
      "None\n"
     ]
    }
   ],
   "source": [
    "# Display data types and non-null values\n",
    "print(df.info())"
   ]
  },
  {
   "cell_type": "code",
   "execution_count": 5,
   "id": "f89ff664",
   "metadata": {},
   "outputs": [],
   "source": [
    "#Data Cleaning\n",
    "#Lets standardize the column names\n",
    "#Covert Date column type to DateTime"
   ]
  },
  {
   "cell_type": "code",
   "execution_count": 6,
   "id": "9a35428b",
   "metadata": {},
   "outputs": [
    {
     "name": "stdout",
     "output_type": "stream",
     "text": [
      "\n",
      "Missing values before cleaning:\n",
      "TransactionID              0\n",
      "AccountID                  0\n",
      "TransactionAmount          0\n",
      "TransactionDate            0\n",
      "TransactionType            0\n",
      "Location                   0\n",
      "DeviceID                   0\n",
      "IP Address                 0\n",
      "MerchantID                 0\n",
      "Channel                    0\n",
      "CustomerAge                0\n",
      "CustomerOccupation         0\n",
      "TransactionDuration        0\n",
      "LoginAttempts              0\n",
      "AccountBalance             0\n",
      "PreviousTransactionDate    0\n",
      "dtype: int64\n"
     ]
    }
   ],
   "source": [
    "# Check for missing values\n",
    "print(\"\\nMissing values before cleaning:\")\n",
    "print(df.isnull().sum())"
   ]
  },
  {
   "cell_type": "code",
   "execution_count": 7,
   "id": "f14b32f1",
   "metadata": {},
   "outputs": [
    {
     "name": "stdout",
     "output_type": "stream",
     "text": [
      "<class 'pandas.core.frame.DataFrame'>\n",
      "RangeIndex: 2512 entries, 0 to 2511\n",
      "Data columns (total 16 columns):\n",
      " #   Column                   Non-Null Count  Dtype         \n",
      "---  ------                   --------------  -----         \n",
      " 0   TransactionID            2512 non-null   object        \n",
      " 1   AccountID                2512 non-null   object        \n",
      " 2   TransactionAmount        2512 non-null   float64       \n",
      " 3   TransactionDate          2512 non-null   datetime64[ns]\n",
      " 4   TransactionType          2512 non-null   object        \n",
      " 5   Location                 2512 non-null   object        \n",
      " 6   DeviceID                 2512 non-null   object        \n",
      " 7   IPAddress                2512 non-null   object        \n",
      " 8   MerchantID               2512 non-null   object        \n",
      " 9   Channel                  2512 non-null   object        \n",
      " 10  CustomerAge              2512 non-null   int64         \n",
      " 11  CustomerOccupation       2512 non-null   object        \n",
      " 12  TransactionDuration      2512 non-null   int64         \n",
      " 13  LoginAttempts            2512 non-null   int64         \n",
      " 14  AccountBalance           2512 non-null   float64       \n",
      " 15  PreviousTransactionDate  2512 non-null   datetime64[ns]\n",
      "dtypes: datetime64[ns](2), float64(2), int64(3), object(9)\n",
      "memory usage: 314.1+ KB\n",
      "None\n",
      "     TransactionID AccountID  TransactionAmount     TransactionDate  \\\n",
      "0         TX000001   AC00128              14.09 2023-04-11 16:29:14   \n",
      "1         TX000002   AC00455             376.24 2023-06-27 16:44:19   \n",
      "2         TX000003   AC00019             126.29 2023-07-10 18:16:08   \n",
      "3         TX000004   AC00070             184.50 2023-05-05 16:32:11   \n",
      "4         TX000005   AC00411              13.45 2023-10-16 17:51:24   \n",
      "...            ...       ...                ...                 ...   \n",
      "2507      TX002508   AC00297             856.21 2023-04-26 17:09:36   \n",
      "2508      TX002509   AC00322             251.54 2023-03-22 17:36:48   \n",
      "2509      TX002510   AC00095              28.63 2023-08-21 17:08:50   \n",
      "2510      TX002511   AC00118             185.97 2023-02-24 16:24:46   \n",
      "2511      TX002512   AC00009             243.08 2023-02-14 16:21:23   \n",
      "\n",
      "     TransactionType          Location DeviceID       IPAddress MerchantID  \\\n",
      "0              Debit         San Diego  D000380  162.198.218.92       M015   \n",
      "1              Debit           Houston  D000051     13.149.61.4       M052   \n",
      "2              Debit              Mesa  D000235  215.97.143.157       M009   \n",
      "3              Debit           Raleigh  D000187  200.13.225.150       M002   \n",
      "4             Credit           Atlanta  D000308    65.164.3.100       M091   \n",
      "...              ...               ...      ...             ...        ...   \n",
      "2507          Credit  Colorado Springs  D000625    21.157.41.17       M072   \n",
      "2508           Debit            Tucson  D000410  49.174.157.140       M029   \n",
      "2509           Debit         San Diego  D000095     58.1.27.124       M087   \n",
      "2510           Debit            Denver  D000634   21.190.11.223       M041   \n",
      "2511          Credit      Jacksonville  D000215   59.127.135.25       M041   \n",
      "\n",
      "     Channel  CustomerAge CustomerOccupation  TransactionDuration  \\\n",
      "0        ATM           70             Doctor                   81   \n",
      "1        ATM           68             Doctor                  141   \n",
      "2     Online           19            Student                   56   \n",
      "3     Online           26            Student                   25   \n",
      "4     Online           26            Student                  198   \n",
      "...      ...          ...                ...                  ...   \n",
      "2507  Branch           33             Doctor                  109   \n",
      "2508  Branch           48             Doctor                  177   \n",
      "2509  Branch           56            Retired                  146   \n",
      "2510  Online           23            Student                   19   \n",
      "2511  Online           24            Student                   93   \n",
      "\n",
      "      LoginAttempts  AccountBalance PreviousTransactionDate  \n",
      "0                 1         5112.21     2024-11-04 08:08:08  \n",
      "1                 1        13758.91     2024-11-04 08:09:35  \n",
      "2                 1         1122.35     2024-11-04 08:07:04  \n",
      "3                 1         8569.06     2024-11-04 08:09:06  \n",
      "4                 1         7429.40     2024-11-04 08:06:39  \n",
      "...             ...             ...                     ...  \n",
      "2507              1        12690.79     2024-11-04 08:11:29  \n",
      "2508              1          254.75     2024-11-04 08:11:42  \n",
      "2509              1         3382.91     2024-11-04 08:08:39  \n",
      "2510              1         1776.91     2024-11-04 08:12:22  \n",
      "2511              1          131.25     2024-11-04 08:07:49  \n",
      "\n",
      "[2512 rows x 16 columns]\n"
     ]
    }
   ],
   "source": [
    "df.columns = df.columns.str.replace(\" \", \"\")\n",
    "df[\"TransactionDate\"] = pd.to_datetime(df[\"TransactionDate\"], errors=\"coerce\")\n",
    "df[\"PreviousTransactionDate\"] = pd.to_datetime(df[\"PreviousTransactionDate\"], format=\"%Y-%m-%d\",errors=\"coerce\")\n",
    "print(df.info())\n",
    "print(df)"
   ]
  },
  {
   "cell_type": "code",
   "execution_count": 8,
   "id": "e1d2ac53",
   "metadata": {},
   "outputs": [],
   "source": [
    "# Data Checks\n",
    "# Repeating or Dupllicate Transaction Id\n",
    "# Negative Balance\n",
    "# Transaction without Account Id\n",
    "# Maximum transactions"
   ]
  },
  {
   "cell_type": "code",
   "execution_count": 9,
   "id": "b31212b3",
   "metadata": {},
   "outputs": [
    {
     "name": "stdout",
     "output_type": "stream",
     "text": [
      "Duplicate Transactions Empty DataFrame\n",
      "Columns: [TransactionID, AccountID, TransactionAmount, TransactionDate, TransactionType, Location, DeviceID, IPAddress, MerchantID, Channel, CustomerAge, CustomerOccupation, TransactionDuration, LoginAttempts, AccountBalance, PreviousTransactionDate]\n",
      "Index: []\n",
      "Empty DataFrame\n",
      "Columns: [TransactionID, AccountID, TransactionAmount, TransactionDate, TransactionType, Location, DeviceID, IPAddress, MerchantID, Channel, CustomerAge, CustomerOccupation, TransactionDuration, LoginAttempts, AccountBalance, PreviousTransactionDate]\n",
      "Index: []\n"
     ]
    }
   ],
   "source": [
    "duplicate_ids = df[df.duplicated(subset=[\"TransactionID\"],)]\n",
    "print(\"Duplicate Transactions\", duplicate_ids)\n",
    "negative_balances = df[df[\"AccountBalance\"] < 0]\n",
    "print(negative_balances)"
   ]
  },
  {
   "cell_type": "code",
   "execution_count": 10,
   "id": "9bfa06d9",
   "metadata": {},
   "outputs": [],
   "source": [
    "# Exploratory Data Analysis (EDA)\n",
    "# EDA is where you explore the data to understand its characteristics, identify patterns, and find potential relationships. This is crucial for guiding your feature engineering and modeling steps.\n",
    "\n",
    "# How to Perform EDA:\n",
    "\n",
    "# Descriptive Statistics: Get a numerical summary of the data using df.describe().\n",
    "# Univariate Analysis: Look at the distribution of individual variables. Use histograms for numerical data and bar plots for categorical data.\n",
    "# Bivariate/Multivariate Analysis: Explore the relationships between variables, especially in the context of your target variable (fraudulent transactions).\n",
    "# Visualization: Use libraries like Matplotlib and Seaborn to create visual representations of your findings. This makes complex patterns easy to understand."
   ]
  },
  {
   "cell_type": "code",
   "execution_count": 11,
   "id": "527105c1",
   "metadata": {},
   "outputs": [
    {
     "name": "stdout",
     "output_type": "stream",
     "text": [
      "Max Transaction Amount 1919.11\n",
      "Min Transaction Amount 0.26\n",
      "Max Transactions by AccountId: \n",
      "  AC00362    12\n",
      "Name: AccountID, dtype: int64\n"
     ]
    }
   ],
   "source": [
    "print(\"Max Transaction Amount\", df[\"TransactionAmount\"].max())\n",
    "print(\"Min Transaction Amount\", df[\"TransactionAmount\"].min())\n",
    "print(\"Max Transactions by AccountId: \\n \", df[\"AccountID\"].value_counts().head(1))"
   ]
  },
  {
   "cell_type": "code",
   "execution_count": 12,
   "id": "ade41c40",
   "metadata": {},
   "outputs": [
    {
     "data": {
      "text/html": [
       "<div>\n",
       "<style scoped>\n",
       "    .dataframe tbody tr th:only-of-type {\n",
       "        vertical-align: middle;\n",
       "    }\n",
       "\n",
       "    .dataframe tbody tr th {\n",
       "        vertical-align: top;\n",
       "    }\n",
       "\n",
       "    .dataframe thead th {\n",
       "        text-align: right;\n",
       "    }\n",
       "</style>\n",
       "<table border=\"1\" class=\"dataframe\">\n",
       "  <thead>\n",
       "    <tr style=\"text-align: right;\">\n",
       "      <th></th>\n",
       "      <th>mean</th>\n",
       "      <th>max</th>\n",
       "      <th>min</th>\n",
       "    </tr>\n",
       "    <tr>\n",
       "      <th>AccountID</th>\n",
       "      <th></th>\n",
       "      <th></th>\n",
       "      <th></th>\n",
       "    </tr>\n",
       "  </thead>\n",
       "  <tbody>\n",
       "    <tr>\n",
       "      <th>AC00001</th>\n",
       "      <td>59 days 23:56:14</td>\n",
       "      <td>59 days 23:56:14</td>\n",
       "      <td>59 days 23:56:14</td>\n",
       "    </tr>\n",
       "    <tr>\n",
       "      <th>AC00002</th>\n",
       "      <td>57 days 12:10:03</td>\n",
       "      <td>100 days 23:07:51</td>\n",
       "      <td>10 days 23:31:46</td>\n",
       "    </tr>\n",
       "    <tr>\n",
       "      <th>AC00003</th>\n",
       "      <td>68 days 06:33:03.500000</td>\n",
       "      <td>140 days 02:21:36</td>\n",
       "      <td>7 days 00:41:41</td>\n",
       "    </tr>\n",
       "    <tr>\n",
       "      <th>AC00004</th>\n",
       "      <td>30 days 14:49:04.875000</td>\n",
       "      <td>90 days 22:45:58</td>\n",
       "      <td>9 days 01:13:10</td>\n",
       "    </tr>\n",
       "    <tr>\n",
       "      <th>AC00005</th>\n",
       "      <td>35 days 15:12:55.125000</td>\n",
       "      <td>139 days 22:43:26</td>\n",
       "      <td>0 days 01:11:04</td>\n",
       "    </tr>\n",
       "    <tr>\n",
       "      <th>...</th>\n",
       "      <td>...</td>\n",
       "      <td>...</td>\n",
       "      <td>...</td>\n",
       "    </tr>\n",
       "    <tr>\n",
       "      <th>AC00496</th>\n",
       "      <td>50 days 00:49:14.500000</td>\n",
       "      <td>82 days 00:45:11</td>\n",
       "      <td>18 days 00:53:18</td>\n",
       "    </tr>\n",
       "    <tr>\n",
       "      <th>AC00497</th>\n",
       "      <td>58 days 14:36:27.800000</td>\n",
       "      <td>102 days 00:06:47</td>\n",
       "      <td>13 days 21:20:00</td>\n",
       "    </tr>\n",
       "    <tr>\n",
       "      <th>AC00498</th>\n",
       "      <td>49 days 00:04:06.285714285</td>\n",
       "      <td>121 days 00:26:29</td>\n",
       "      <td>14 days 00:08:13</td>\n",
       "    </tr>\n",
       "    <tr>\n",
       "      <th>AC00499</th>\n",
       "      <td>53 days 15:49:25.333333333</td>\n",
       "      <td>160 days 02:29:09</td>\n",
       "      <td>11 days 21:16:47</td>\n",
       "    </tr>\n",
       "    <tr>\n",
       "      <th>AC00500</th>\n",
       "      <td>84 days 00:02:19</td>\n",
       "      <td>114 days 22:49:13</td>\n",
       "      <td>42 days 01:19:54</td>\n",
       "    </tr>\n",
       "  </tbody>\n",
       "</table>\n",
       "<p>495 rows × 3 columns</p>\n",
       "</div>"
      ],
      "text/plain": [
       "                                mean               max              min\n",
       "AccountID                                                              \n",
       "AC00001             59 days 23:56:14  59 days 23:56:14 59 days 23:56:14\n",
       "AC00002             57 days 12:10:03 100 days 23:07:51 10 days 23:31:46\n",
       "AC00003      68 days 06:33:03.500000 140 days 02:21:36  7 days 00:41:41\n",
       "AC00004      30 days 14:49:04.875000  90 days 22:45:58  9 days 01:13:10\n",
       "AC00005      35 days 15:12:55.125000 139 days 22:43:26  0 days 01:11:04\n",
       "...                              ...               ...              ...\n",
       "AC00496      50 days 00:49:14.500000  82 days 00:45:11 18 days 00:53:18\n",
       "AC00497      58 days 14:36:27.800000 102 days 00:06:47 13 days 21:20:00\n",
       "AC00498   49 days 00:04:06.285714285 121 days 00:26:29 14 days 00:08:13\n",
       "AC00499   53 days 15:49:25.333333333 160 days 02:29:09 11 days 21:16:47\n",
       "AC00500             84 days 00:02:19 114 days 22:49:13 42 days 01:19:54\n",
       "\n",
       "[495 rows x 3 columns]"
      ]
     },
     "execution_count": 12,
     "metadata": {},
     "output_type": "execute_result"
    }
   ],
   "source": [
    "df = df.sort_values(by=[\"AccountID\", \"TransactionDate\"])\n",
    "\n",
    "df[\"Gap\"] = df.groupby(\"AccountID\")[\"TransactionDate\"].diff()\n",
    "\n",
    "df.groupby(\"AccountID\")[\"Gap\"].agg([\"mean\", \"max\", \"min\"])"
   ]
  },
  {
   "cell_type": "code",
   "execution_count": 13,
   "id": "f44660d4",
   "metadata": {},
   "outputs": [
    {
     "name": "stdout",
     "output_type": "stream",
     "text": [
      "Transactions by DeviceID: \n",
      "  D000142    9\n",
      "D000315    9\n",
      "D000663    9\n",
      "D000451    9\n",
      "D000697    9\n",
      "          ..\n",
      "D000296    1\n",
      "D000318    1\n",
      "D000480    1\n",
      "D000570    1\n",
      "D000425    1\n",
      "Name: DeviceID, Length: 681, dtype: int64\n"
     ]
    }
   ],
   "source": [
    "print(\"Transactions by DeviceID: \\n \", df[\"DeviceID\"].value_counts())"
   ]
  },
  {
   "cell_type": "code",
   "execution_count": 14,
   "id": "03a1b614",
   "metadata": {},
   "outputs": [
    {
     "name": "stdout",
     "output_type": "stream",
     "text": [
      "Transactions by Location: \n",
      "  Fort Worth          70\n",
      "Los Angeles         69\n",
      "Oklahoma City       68\n",
      "Charlotte           68\n",
      "Tucson              67\n",
      "Philadelphia        67\n",
      "Omaha               65\n",
      "Miami               64\n",
      "Houston             63\n",
      "Memphis             63\n",
      "Detroit             63\n",
      "Denver              62\n",
      "Boston              61\n",
      "Mesa                61\n",
      "Seattle             61\n",
      "Atlanta             61\n",
      "Kansas City         61\n",
      "Chicago             60\n",
      "Colorado Springs    60\n",
      "Fresno              60\n",
      "Jacksonville        60\n",
      "San Diego           59\n",
      "San Antonio         59\n",
      "Raleigh             59\n",
      "San Jose            59\n",
      "Austin              59\n",
      "Indianapolis        58\n",
      "New York            58\n",
      "San Francisco       57\n",
      "Las Vegas           55\n",
      "Milwaukee           55\n",
      "Nashville           55\n",
      "Virginia Beach      55\n",
      "Phoenix             55\n",
      "Columbus            54\n",
      "Sacramento          53\n",
      "Louisville          51\n",
      "Baltimore           51\n",
      "Dallas              49\n",
      "Washington          48\n",
      "El Paso             46\n",
      "Portland            42\n",
      "Albuquerque         41\n",
      "Name: Location, dtype: int64\n"
     ]
    }
   ],
   "source": [
    "print(\"Transactions by Location: \\n \", df[\"Location\"].value_counts())"
   ]
  },
  {
   "cell_type": "code",
   "execution_count": 15,
   "id": "00ccf9da",
   "metadata": {},
   "outputs": [
    {
     "name": "stdout",
     "output_type": "stream",
     "text": [
      "Transactions by CustomerAge: \n",
      "  27    87\n",
      "26    86\n",
      "25    73\n",
      "28    68\n",
      "21    64\n",
      "      ..\n",
      "70    19\n",
      "77    19\n",
      "80    17\n",
      "74    16\n",
      "71    16\n",
      "Name: CustomerAge, Length: 63, dtype: int64\n"
     ]
    }
   ],
   "source": [
    "print(\"Transactions by CustomerAge: \\n \", df[\"CustomerAge\"].value_counts())"
   ]
  },
  {
   "cell_type": "code",
   "execution_count": 16,
   "id": "fdaeabd5",
   "metadata": {},
   "outputs": [
    {
     "name": "stdout",
     "output_type": "stream",
     "text": [
      "Transactions by Channel: \n",
      "  Branch    868\n",
      "ATM       833\n",
      "Online    811\n",
      "Name: Channel, dtype: int64\n"
     ]
    }
   ],
   "source": [
    "print(\"Transactions by Channel: \\n \", df[\"Channel\"].value_counts())"
   ]
  },
  {
   "cell_type": "code",
   "execution_count": 17,
   "id": "2eab3c50",
   "metadata": {},
   "outputs": [
    {
     "name": "stdout",
     "output_type": "stream",
     "text": [
      "Transactions by CustomerOccupation: \n",
      "  Student     657\n",
      "Doctor      631\n",
      "Engineer    625\n",
      "Retired     599\n",
      "Name: CustomerOccupation, dtype: int64\n"
     ]
    }
   ],
   "source": [
    "print(\"Transactions by CustomerOccupation: \\n \", df[\"CustomerOccupation\"].value_counts())"
   ]
  },
  {
   "cell_type": "code",
   "execution_count": 18,
   "id": "68554f7b",
   "metadata": {},
   "outputs": [
    {
     "name": "stdout",
     "output_type": "stream",
     "text": [
      "The age variation:  44.673964968152866\n"
     ]
    }
   ],
   "source": [
    "print(\"The age variation: \", df['CustomerAge'].mean())"
   ]
  },
  {
   "cell_type": "code",
   "execution_count": 19,
   "id": "6c1fd1f1",
   "metadata": {},
   "outputs": [
    {
     "name": "stdout",
     "output_type": "stream",
     "text": [
      "The age variation:  44.673964968152866\n"
     ]
    }
   ],
   "source": [
    "print(\"The age variation: \", df['CustomerAge'].mean())"
   ]
  },
  {
   "cell_type": "code",
   "execution_count": 20,
   "id": "c7766c19",
   "metadata": {},
   "outputs": [
    {
     "name": "stdout",
     "output_type": "stream",
     "text": [
      "1312      Friday\n",
      "2016     Tuesday\n",
      "2120     Tuesday\n",
      "20       Tuesday\n",
      "1476      Friday\n",
      "          ...   \n",
      "1942      Monday\n",
      "2054      Monday\n",
      "1715      Monday\n",
      "2374    Thursday\n",
      "2349      Monday\n",
      "Name: DayOfWeek_Name, Length: 2512, dtype: object\n"
     ]
    }
   ],
   "source": [
    "df['DayOfWeek_Name'] = df['TransactionDate'].dt.day_name()\n",
    "print(df['DayOfWeek_Name'])"
   ]
  },
  {
   "cell_type": "code",
   "execution_count": 21,
   "id": "52ac6e1c",
   "metadata": {},
   "outputs": [
    {
     "name": "stdout",
     "output_type": "stream",
     "text": [
      "Transactions by Day of the week: \n",
      "  Monday       1070\n",
      "Friday        373\n",
      "Thursday      368\n",
      "Tuesday       360\n",
      "Wednesday     341\n",
      "Name: DayOfWeek_Name, dtype: int64\n"
     ]
    }
   ],
   "source": [
    "print(\"Transactions by Day of the week: \\n \", df[\"DayOfWeek_Name\"].value_counts())"
   ]
  },
  {
   "cell_type": "code",
   "execution_count": 22,
   "id": "6c9b451d",
   "metadata": {},
   "outputs": [],
   "source": [
    "df['Time'] = df['TransactionDate'].dt.strftime('%H:%M:%S')\n",
    "df['Week_of_Year'] = df['TransactionDate'].dt.isocalendar().week.astype(int)\n",
    "df['Month'] = df['TransactionDate'].dt.month\n",
    "df['Day_of_Month'] = df['TransactionDate'].dt.day\n",
    "\n",
    "df['Hour'] = df['TransactionDate'].dt.hour\n",
    "df['Day_Time_Combo'] = df['DayOfWeek_Name'] + ' ' + df['Hour'].astype(str)"
   ]
  },
  {
   "cell_type": "code",
   "execution_count": 23,
   "id": "21fdad15",
   "metadata": {},
   "outputs": [
    {
     "data": {
      "text/html": [
       "<div>\n",
       "<style scoped>\n",
       "    .dataframe tbody tr th:only-of-type {\n",
       "        vertical-align: middle;\n",
       "    }\n",
       "\n",
       "    .dataframe tbody tr th {\n",
       "        vertical-align: top;\n",
       "    }\n",
       "\n",
       "    .dataframe thead th {\n",
       "        text-align: right;\n",
       "    }\n",
       "</style>\n",
       "<table border=\"1\" class=\"dataframe\">\n",
       "  <thead>\n",
       "    <tr style=\"text-align: right;\">\n",
       "      <th></th>\n",
       "      <th>TransactionID</th>\n",
       "      <th>AccountID</th>\n",
       "      <th>TransactionAmount</th>\n",
       "      <th>TransactionDate</th>\n",
       "      <th>TransactionType</th>\n",
       "      <th>Location</th>\n",
       "      <th>DeviceID</th>\n",
       "      <th>IPAddress</th>\n",
       "      <th>MerchantID</th>\n",
       "      <th>Channel</th>\n",
       "      <th>...</th>\n",
       "      <th>AccountBalance</th>\n",
       "      <th>PreviousTransactionDate</th>\n",
       "      <th>Gap</th>\n",
       "      <th>DayOfWeek_Name</th>\n",
       "      <th>Time</th>\n",
       "      <th>Week_of_Year</th>\n",
       "      <th>Month</th>\n",
       "      <th>Day_of_Month</th>\n",
       "      <th>Hour</th>\n",
       "      <th>Day_Time_Combo</th>\n",
       "    </tr>\n",
       "  </thead>\n",
       "  <tbody>\n",
       "    <tr>\n",
       "      <th>1312</th>\n",
       "      <td>TX001313</td>\n",
       "      <td>AC00001</td>\n",
       "      <td>47.79</td>\n",
       "      <td>2023-09-15 17:00:20</td>\n",
       "      <td>Debit</td>\n",
       "      <td>Denver</td>\n",
       "      <td>D000649</td>\n",
       "      <td>59.12.96.11</td>\n",
       "      <td>M034</td>\n",
       "      <td>Branch</td>\n",
       "      <td>...</td>\n",
       "      <td>1649.92</td>\n",
       "      <td>2024-11-04 08:11:55</td>\n",
       "      <td>NaT</td>\n",
       "      <td>Friday</td>\n",
       "      <td>17:00:20</td>\n",
       "      <td>37</td>\n",
       "      <td>9</td>\n",
       "      <td>15</td>\n",
       "      <td>17</td>\n",
       "      <td>Friday 17</td>\n",
       "    </tr>\n",
       "    <tr>\n",
       "      <th>2016</th>\n",
       "      <td>TX002017</td>\n",
       "      <td>AC00001</td>\n",
       "      <td>212.97</td>\n",
       "      <td>2023-11-14 16:56:34</td>\n",
       "      <td>Debit</td>\n",
       "      <td>Atlanta</td>\n",
       "      <td>D000492</td>\n",
       "      <td>45.241.13.208</td>\n",
       "      <td>M003</td>\n",
       "      <td>Online</td>\n",
       "      <td>...</td>\n",
       "      <td>4180.40</td>\n",
       "      <td>2024-11-04 08:10:42</td>\n",
       "      <td>59 days 23:56:14</td>\n",
       "      <td>Tuesday</td>\n",
       "      <td>16:56:34</td>\n",
       "      <td>46</td>\n",
       "      <td>11</td>\n",
       "      <td>14</td>\n",
       "      <td>16</td>\n",
       "      <td>Tuesday 16</td>\n",
       "    </tr>\n",
       "    <tr>\n",
       "      <th>2120</th>\n",
       "      <td>TX002121</td>\n",
       "      <td>AC00002</td>\n",
       "      <td>476.99</td>\n",
       "      <td>2023-01-10 16:00:32</td>\n",
       "      <td>Debit</td>\n",
       "      <td>San Diego</td>\n",
       "      <td>D000594</td>\n",
       "      <td>113.137.153.101</td>\n",
       "      <td>M022</td>\n",
       "      <td>Online</td>\n",
       "      <td>...</td>\n",
       "      <td>1154.48</td>\n",
       "      <td>2024-11-04 08:10:10</td>\n",
       "      <td>NaT</td>\n",
       "      <td>Tuesday</td>\n",
       "      <td>16:00:32</td>\n",
       "      <td>2</td>\n",
       "      <td>1</td>\n",
       "      <td>10</td>\n",
       "      <td>16</td>\n",
       "      <td>Tuesday 16</td>\n",
       "    </tr>\n",
       "    <tr>\n",
       "      <th>20</th>\n",
       "      <td>TX000021</td>\n",
       "      <td>AC00002</td>\n",
       "      <td>59.32</td>\n",
       "      <td>2023-02-28 16:36:58</td>\n",
       "      <td>Debit</td>\n",
       "      <td>Los Angeles</td>\n",
       "      <td>D000152</td>\n",
       "      <td>116.44.12.250</td>\n",
       "      <td>M040</td>\n",
       "      <td>Branch</td>\n",
       "      <td>...</td>\n",
       "      <td>5750.89</td>\n",
       "      <td>2024-11-04 08:09:24</td>\n",
       "      <td>49 days 00:36:26</td>\n",
       "      <td>Tuesday</td>\n",
       "      <td>16:36:58</td>\n",
       "      <td>9</td>\n",
       "      <td>2</td>\n",
       "      <td>28</td>\n",
       "      <td>16</td>\n",
       "      <td>Tuesday 16</td>\n",
       "    </tr>\n",
       "    <tr>\n",
       "      <th>1476</th>\n",
       "      <td>TX001477</td>\n",
       "      <td>AC00002</td>\n",
       "      <td>12.62</td>\n",
       "      <td>2023-05-05 16:35:44</td>\n",
       "      <td>Debit</td>\n",
       "      <td>El Paso</td>\n",
       "      <td>D000475</td>\n",
       "      <td>93.160.83.196</td>\n",
       "      <td>M068</td>\n",
       "      <td>Branch</td>\n",
       "      <td>...</td>\n",
       "      <td>6420.47</td>\n",
       "      <td>2024-11-04 08:09:03</td>\n",
       "      <td>65 days 23:58:46</td>\n",
       "      <td>Friday</td>\n",
       "      <td>16:35:44</td>\n",
       "      <td>18</td>\n",
       "      <td>5</td>\n",
       "      <td>5</td>\n",
       "      <td>16</td>\n",
       "      <td>Friday 16</td>\n",
       "    </tr>\n",
       "  </tbody>\n",
       "</table>\n",
       "<p>5 rows × 24 columns</p>\n",
       "</div>"
      ],
      "text/plain": [
       "     TransactionID AccountID  TransactionAmount     TransactionDate  \\\n",
       "1312      TX001313   AC00001              47.79 2023-09-15 17:00:20   \n",
       "2016      TX002017   AC00001             212.97 2023-11-14 16:56:34   \n",
       "2120      TX002121   AC00002             476.99 2023-01-10 16:00:32   \n",
       "20        TX000021   AC00002              59.32 2023-02-28 16:36:58   \n",
       "1476      TX001477   AC00002              12.62 2023-05-05 16:35:44   \n",
       "\n",
       "     TransactionType     Location DeviceID        IPAddress MerchantID  \\\n",
       "1312           Debit       Denver  D000649      59.12.96.11       M034   \n",
       "2016           Debit      Atlanta  D000492    45.241.13.208       M003   \n",
       "2120           Debit    San Diego  D000594  113.137.153.101       M022   \n",
       "20             Debit  Los Angeles  D000152    116.44.12.250       M040   \n",
       "1476           Debit      El Paso  D000475    93.160.83.196       M068   \n",
       "\n",
       "     Channel  ...  AccountBalance PreviousTransactionDate              Gap  \\\n",
       "1312  Branch  ...         1649.92     2024-11-04 08:11:55              NaT   \n",
       "2016  Online  ...         4180.40     2024-11-04 08:10:42 59 days 23:56:14   \n",
       "2120  Online  ...         1154.48     2024-11-04 08:10:10              NaT   \n",
       "20    Branch  ...         5750.89     2024-11-04 08:09:24 49 days 00:36:26   \n",
       "1476  Branch  ...         6420.47     2024-11-04 08:09:03 65 days 23:58:46   \n",
       "\n",
       "      DayOfWeek_Name      Time Week_of_Year Month Day_of_Month Hour  \\\n",
       "1312          Friday  17:00:20           37     9           15   17   \n",
       "2016         Tuesday  16:56:34           46    11           14   16   \n",
       "2120         Tuesday  16:00:32            2     1           10   16   \n",
       "20           Tuesday  16:36:58            9     2           28   16   \n",
       "1476          Friday  16:35:44           18     5            5   16   \n",
       "\n",
       "      Day_Time_Combo  \n",
       "1312       Friday 17  \n",
       "2016      Tuesday 16  \n",
       "2120      Tuesday 16  \n",
       "20        Tuesday 16  \n",
       "1476       Friday 16  \n",
       "\n",
       "[5 rows x 24 columns]"
      ]
     },
     "execution_count": 23,
     "metadata": {},
     "output_type": "execute_result"
    }
   ],
   "source": [
    "df.head()"
   ]
  },
  {
   "cell_type": "code",
   "execution_count": 24,
   "id": "3630051e",
   "metadata": {},
   "outputs": [
    {
     "name": "stdout",
     "output_type": "stream",
     "text": [
      "Transactions by Day Time: \n",
      "  Monday 16       573\n",
      "Monday 17       337\n",
      "Thursday 16     201\n",
      "Tuesday 16      189\n",
      "Friday 16       181\n",
      "Wednesday 16    172\n",
      "Monday 18       160\n",
      "Friday 17       129\n",
      "Wednesday 17    125\n",
      "Tuesday 17      120\n",
      "Thursday 17     108\n",
      "Friday 18        63\n",
      "Thursday 18      59\n",
      "Tuesday 18       51\n",
      "Wednesday 18     44\n",
      "Name: Day_Time_Combo, dtype: int64\n"
     ]
    }
   ],
   "source": [
    "print(\"Transactions by Day Time: \\n \", df[\"Day_Time_Combo\"].value_counts())"
   ]
  },
  {
   "cell_type": "code",
   "execution_count": 25,
   "id": "e6311c02",
   "metadata": {},
   "outputs": [
    {
     "name": "stdout",
     "output_type": "stream",
     "text": [
      "\n",
      "--- Final Table with Time-Series Features (First 10 Rows) ---\n",
      "  AccountID     TransactionDate  Time_Between_Txn_Seconds  \\\n",
      "0   AC00001 2023-09-15 17:00:20                       0.0   \n",
      "1   AC00001 2023-11-14 16:56:34                 5183774.0   \n",
      "2   AC00002 2023-01-10 16:00:32                       0.0   \n",
      "3   AC00002 2023-02-28 16:36:58                 4235786.0   \n",
      "4   AC00002 2023-05-05 16:35:44                 5702326.0   \n",
      "5   AC00002 2023-05-16 16:07:30                  948706.0   \n",
      "6   AC00002 2023-07-24 16:14:05                 5961995.0   \n",
      "7   AC00002 2023-09-11 17:52:59                 4239534.0   \n",
      "8   AC00002 2023-12-21 17:00:50                 8723271.0   \n",
      "9   AC00003 2023-01-02 16:45:05                       0.0   \n",
      "\n",
      "   User_Avg_Time_Between_Txns  \n",
      "0                2.591887e+06  \n",
      "1                2.591887e+06  \n",
      "2                4.258803e+06  \n",
      "3                4.258803e+06  \n",
      "4                4.258803e+06  \n",
      "5                4.258803e+06  \n",
      "6                4.258803e+06  \n",
      "7                4.258803e+06  \n",
      "8                4.258803e+06  \n",
      "9                4.719027e+06  \n"
     ]
    }
   ],
   "source": [
    "# Create a working copy of the DataFrame for the time-series calculation\n",
    "df_time = df[['AccountID', 'TransactionDate']].sort_values(by=['AccountID', 'TransactionDate']).copy()\n",
    "df_time['Time_Between_Txn_Delta'] = df_time.groupby('AccountID')['TransactionDate'].diff()\n",
    "df_time['Time_Between_Txn_Seconds'] = df_time['Time_Between_Txn_Delta'].dt.total_seconds().fillna(0)\n",
    "\n",
    "avg_time_per_user = df_time.groupby('AccountID')['Time_Between_Txn_Seconds'].mean().reset_index()\n",
    "avg_time_per_user.rename(columns={'Time_Between_Txn_Seconds': 'User_Avg_Time_Between_Txns'}, inplace=True)\n",
    "\n",
    "\n",
    "\n",
    "# Merge the average time back into the working table based on AccountID\n",
    "df_final_time_features = pd.merge(df_time,avg_time_per_user,on='AccountID',how='left')\n",
    "\n",
    "# Clean up the final table to show the key results\n",
    "df_final_time_features = df_final_time_features[['AccountID','TransactionDate','Time_Between_Txn_Seconds','User_Avg_Time_Between_Txns']]\n",
    "\n",
    "# Display the final resulting table, sorted by AccountID and Date\n",
    "print(\"\\n--- Final Table with Time-Series Features (First 10 Rows) ---\")\n",
    "print(df_final_time_features.head(10))\n"
   ]
  },
  {
   "cell_type": "code",
   "execution_count": 27,
   "id": "3b468081",
   "metadata": {},
   "outputs": [],
   "source": [
    "def feature_details(df,col):\n",
    "    print(f'Feature Name : {col}')\n",
    "    # Print unique values count\n",
    "    unique_count = df[col].nunique()\n",
    "    print(f'\\n{col} has unique values: {unique_count}')\n",
    "    \n",
    "    # Print duplicate values count\n",
    "    duplicate_count = df[col].duplicated().sum()\n",
    "    print(f'{col} has duplicate values:{duplicate_count} \\n')"
   ]
  },
  {
   "cell_type": "code",
   "execution_count": 28,
   "id": "8d71ff9d",
   "metadata": {},
   "outputs": [
    {
     "name": "stdout",
     "output_type": "stream",
     "text": [
      "Feature Name : TransactionID\n",
      "\n",
      "TransactionID has unique values: 2512\n",
      "TransactionID has duplicate values:0 \n",
      "\n",
      "Feature Name : AccountID\n",
      "\n",
      "AccountID has unique values: 495\n",
      "AccountID has duplicate values:2017 \n",
      "\n",
      "Feature Name : TransactionType\n",
      "\n",
      "TransactionType has unique values: 2\n",
      "TransactionType has duplicate values:2510 \n",
      "\n",
      "Feature Name : Location\n",
      "\n",
      "Location has unique values: 43\n",
      "Location has duplicate values:2469 \n",
      "\n",
      "Feature Name : DeviceID\n",
      "\n",
      "DeviceID has unique values: 681\n",
      "DeviceID has duplicate values:1831 \n",
      "\n",
      "Feature Name : IPAddress\n",
      "\n",
      "IPAddress has unique values: 592\n",
      "IPAddress has duplicate values:1920 \n",
      "\n",
      "Feature Name : MerchantID\n",
      "\n",
      "MerchantID has unique values: 100\n",
      "MerchantID has duplicate values:2412 \n",
      "\n",
      "Feature Name : Channel\n",
      "\n",
      "Channel has unique values: 3\n",
      "Channel has duplicate values:2509 \n",
      "\n",
      "Feature Name : CustomerOccupation\n",
      "\n",
      "CustomerOccupation has unique values: 4\n",
      "CustomerOccupation has duplicate values:2508 \n",
      "\n",
      "Feature Name : DayOfWeek_Name\n",
      "\n",
      "DayOfWeek_Name has unique values: 5\n",
      "DayOfWeek_Name has duplicate values:2507 \n",
      "\n",
      "Feature Name : Time\n",
      "\n",
      "Time has unique values: 2204\n",
      "Time has duplicate values:308 \n",
      "\n",
      "Feature Name : Day_Time_Combo\n",
      "\n",
      "Day_Time_Combo has unique values: 15\n",
      "Day_Time_Combo has duplicate values:2497 \n",
      "\n"
     ]
    }
   ],
   "source": [
    "cat_columns = df.select_dtypes(include = 'object').columns\n",
    "for col in cat_columns:\n",
    "    feature_details(df,col)"
   ]
  },
  {
   "cell_type": "code",
   "execution_count": null,
   "id": "8c88c884",
   "metadata": {},
   "outputs": [],
   "source": []
  },
  {
   "cell_type": "code",
   "execution_count": 29,
   "id": "1b777742",
   "metadata": {},
   "outputs": [],
   "source": [
    "df.to_csv(r'C:\\Users\\JOVAN RODRIGUES\\Downloads\\FinTransdataclean.csv')"
   ]
  },
  {
   "cell_type": "code",
   "execution_count": null,
   "id": "f4663437",
   "metadata": {},
   "outputs": [],
   "source": []
  }
 ],
 "metadata": {
  "kernelspec": {
   "display_name": "Python 3 (ipykernel)",
   "language": "python",
   "name": "python3"
  },
  "language_info": {
   "codemirror_mode": {
    "name": "ipython",
    "version": 3
   },
   "file_extension": ".py",
   "mimetype": "text/x-python",
   "name": "python",
   "nbconvert_exporter": "python",
   "pygments_lexer": "ipython3",
   "version": "3.9.13"
  }
 },
 "nbformat": 4,
 "nbformat_minor": 5
}
